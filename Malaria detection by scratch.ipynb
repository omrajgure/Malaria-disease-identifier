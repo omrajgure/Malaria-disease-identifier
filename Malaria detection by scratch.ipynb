{
 "cells": [
  {
   "cell_type": "code",
   "execution_count": 2,
   "id": "50fcbc5c",
   "metadata": {},
   "outputs": [],
   "source": [
    "from tensorflow.keras.layers import Input, Lambda, Dense, Flatten,Conv2D\n",
    "from tensorflow.keras.models import Model\n",
    "from tensorflow.keras.preprocessing import image\n",
    "from tensorflow.keras.preprocessing.image import ImageDataGenerator,load_img\n",
    "from tensorflow.keras.models import Sequential\n",
    "import numpy as np\n",
    "from glob import glob\n",
    "import matplotlib.pyplot as plt"
   ]
  },
  {
   "cell_type": "code",
   "execution_count": 3,
   "id": "ae025b5e",
   "metadata": {},
   "outputs": [],
   "source": [
    "IMAGE_SIZE=[224,224]\n",
    "train_path='cell_images/train'\n",
    "valid_path='cell_images/test'"
   ]
  },
  {
   "cell_type": "code",
   "execution_count": 4,
   "id": "7b4174f6",
   "metadata": {},
   "outputs": [],
   "source": [
    "folders=glob('cell_images/train/*')"
   ]
  },
  {
   "cell_type": "code",
   "execution_count": 5,
   "id": "f7733ba9",
   "metadata": {},
   "outputs": [
    {
     "data": {
      "text/plain": [
       "['cell_images/train\\\\Parasitized', 'cell_images/train\\\\Uninfected']"
      ]
     },
     "execution_count": 5,
     "metadata": {},
     "output_type": "execute_result"
    }
   ],
   "source": [
    "folders"
   ]
  },
  {
   "cell_type": "code",
   "execution_count": 6,
   "id": "1bdf58f4",
   "metadata": {},
   "outputs": [],
   "source": [
    "from tensorflow.keras.layers import MaxPooling2D"
   ]
  },
  {
   "cell_type": "code",
   "execution_count": 7,
   "id": "faea8f50",
   "metadata": {},
   "outputs": [
    {
     "name": "stdout",
     "output_type": "stream",
     "text": [
      "Model: \"sequential\"\n",
      "_________________________________________________________________\n",
      "Layer (type)                 Output Shape              Param #   \n",
      "=================================================================\n",
      "conv2d (Conv2D)              (None, 224, 224, 16)      208       \n",
      "_________________________________________________________________\n",
      "max_pooling2d (MaxPooling2D) (None, 112, 112, 16)      0         \n",
      "_________________________________________________________________\n",
      "conv2d_1 (Conv2D)            (None, 112, 112, 32)      2080      \n",
      "_________________________________________________________________\n",
      "max_pooling2d_1 (MaxPooling2 (None, 56, 56, 32)        0         \n",
      "_________________________________________________________________\n",
      "conv2d_2 (Conv2D)            (None, 56, 56, 64)        8256      \n",
      "_________________________________________________________________\n",
      "max_pooling2d_2 (MaxPooling2 (None, 28, 28, 64)        0         \n",
      "_________________________________________________________________\n",
      "flatten (Flatten)            (None, 50176)             0         \n",
      "_________________________________________________________________\n",
      "dense (Dense)                (None, 500)               25088500  \n",
      "_________________________________________________________________\n",
      "dense_1 (Dense)              (None, 2)                 1002      \n",
      "=================================================================\n",
      "Total params: 25,100,046\n",
      "Trainable params: 25,100,046\n",
      "Non-trainable params: 0\n",
      "_________________________________________________________________\n"
     ]
    }
   ],
   "source": [
    "### Create Model from scratch using CNN\n",
    "model=Sequential()\n",
    "model.add(Conv2D(filters=16,kernel_size=2,padding=\"same\",activation=\"relu\",input_shape=(224,224,3)))\n",
    "model.add(MaxPooling2D(pool_size=2))\n",
    "model.add(Conv2D(filters=32,kernel_size=2,padding=\"same\",activation =\"relu\"))\n",
    "model.add(MaxPooling2D(pool_size=2))\n",
    "model.add(Conv2D(filters=64,kernel_size=2,padding=\"same\",activation=\"relu\"))\n",
    "model.add(MaxPooling2D(pool_size=2))\n",
    "model.add(Flatten())\n",
    "model.add(Dense(500,activation=\"relu\"))\n",
    "model.add(Dense(2,activation=\"softmax\"))\n",
    "model.summary()"
   ]
  },
  {
   "cell_type": "code",
   "execution_count": 8,
   "id": "0c6ba2b8",
   "metadata": {},
   "outputs": [],
   "source": [
    "model.compile(\n",
    "  loss='categorical_crossentropy',\n",
    "  optimizer='adam',\n",
    "  metrics=['accuracy']\n",
    ")"
   ]
  },
  {
   "cell_type": "code",
   "execution_count": 9,
   "id": "36cca50a",
   "metadata": {},
   "outputs": [],
   "source": [
    "train_data=ImageDataGenerator(rescale=1./255,\n",
    "                              shear_range=0.2,\n",
    "                              zoom_range=0.2,\n",
    "                              horizontal_flip=True\n",
    "                             )\n",
    "test_data=ImageDataGenerator(rescale=1./255)"
   ]
  },
  {
   "cell_type": "code",
   "execution_count": 10,
   "id": "6919f361",
   "metadata": {},
   "outputs": [
    {
     "name": "stdout",
     "output_type": "stream",
     "text": [
      "Found 1896 images belonging to 2 classes.\n"
     ]
    }
   ],
   "source": [
    "training_set=train_data.flow_from_directory('cell_images/train',\n",
    "                                           target_size=(224,224),\n",
    "                                           batch_size=32,\n",
    "                                           class_mode='categorical')"
   ]
  },
  {
   "cell_type": "code",
   "execution_count": 11,
   "id": "f4e1185c",
   "metadata": {},
   "outputs": [
    {
     "name": "stdout",
     "output_type": "stream",
     "text": [
      "Found 1542 images belonging to 2 classes.\n"
     ]
    }
   ],
   "source": [
    "test_set=test_data.flow_from_directory('cell_images/test',\n",
    "                                      target_size=(224,224),\n",
    "                                      batch_size=32,\n",
    "                                      class_mode='categorical')"
   ]
  },
  {
   "cell_type": "code",
   "execution_count": 12,
   "id": "40cac62b",
   "metadata": {},
   "outputs": [
    {
     "data": {
      "text/plain": [
       "<tensorflow.python.keras.preprocessing.image.DirectoryIterator at 0x1a0d3bdad30>"
      ]
     },
     "execution_count": 12,
     "metadata": {},
     "output_type": "execute_result"
    }
   ],
   "source": [
    "training_set"
   ]
  },
  {
   "cell_type": "code",
   "execution_count": 13,
   "id": "e7dae836",
   "metadata": {},
   "outputs": [
    {
     "data": {
      "text/plain": [
       "<tensorflow.python.keras.preprocessing.image.DirectoryIterator at 0x1a0fca2cb50>"
      ]
     },
     "execution_count": 13,
     "metadata": {},
     "output_type": "execute_result"
    }
   ],
   "source": [
    "test_set"
   ]
  },
  {
   "cell_type": "code",
   "execution_count": 14,
   "id": "118c47c5",
   "metadata": {},
   "outputs": [
    {
     "name": "stderr",
     "output_type": "stream",
     "text": [
      "c:\\users\\om22r\\appdata\\local\\programs\\python\\python39\\lib\\site-packages\\tensorflow\\python\\keras\\engine\\training.py:1940: UserWarning: `Model.fit_generator` is deprecated and will be removed in a future version. Please use `Model.fit`, which supports generators.\n",
      "  warnings.warn('`Model.fit_generator` is deprecated and '\n"
     ]
    },
    {
     "name": "stdout",
     "output_type": "stream",
     "text": [
      "Epoch 1/50\n",
      "60/60 [==============================] - 35s 353ms/step - loss: 0.9001 - accuracy: 0.5923 - val_loss: 0.9240 - val_accuracy: 0.5986\n",
      "Epoch 2/50\n",
      "60/60 [==============================] - 20s 327ms/step - loss: 0.5542 - accuracy: 0.6994 - val_loss: 0.8365 - val_accuracy: 0.5934\n",
      "Epoch 3/50\n",
      "60/60 [==============================] - 18s 303ms/step - loss: 0.5504 - accuracy: 0.6909 - val_loss: 0.7944 - val_accuracy: 0.6070\n",
      "Epoch 4/50\n",
      "60/60 [==============================] - 18s 302ms/step - loss: 0.5192 - accuracy: 0.7215 - val_loss: 1.0457 - val_accuracy: 0.6012\n",
      "Epoch 5/50\n",
      "60/60 [==============================] - 18s 306ms/step - loss: 0.5020 - accuracy: 0.7395 - val_loss: 0.7834 - val_accuracy: 0.6096\n",
      "Epoch 6/50\n",
      "60/60 [==============================] - 18s 307ms/step - loss: 0.4867 - accuracy: 0.7532 - val_loss: 0.9006 - val_accuracy: 0.5921\n",
      "Epoch 7/50\n",
      "60/60 [==============================] - 18s 300ms/step - loss: 0.3846 - accuracy: 0.8291 - val_loss: 0.5324 - val_accuracy: 0.6809\n",
      "Epoch 8/50\n",
      "60/60 [==============================] - 18s 299ms/step - loss: 0.3170 - accuracy: 0.8924 - val_loss: 0.4142 - val_accuracy: 0.8450\n",
      "Epoch 9/50\n",
      "60/60 [==============================] - 18s 303ms/step - loss: 0.2390 - accuracy: 0.9177 - val_loss: 0.5088 - val_accuracy: 0.8165\n",
      "Epoch 10/50\n",
      "60/60 [==============================] - 18s 302ms/step - loss: 0.1943 - accuracy: 0.9335 - val_loss: 0.4437 - val_accuracy: 0.7257\n",
      "Epoch 11/50\n",
      "60/60 [==============================] - 18s 295ms/step - loss: 0.1772 - accuracy: 0.9357 - val_loss: 0.2420 - val_accuracy: 0.9001\n",
      "Epoch 12/50\n",
      "60/60 [==============================] - 18s 308ms/step - loss: 0.1801 - accuracy: 0.9415 - val_loss: 0.4473 - val_accuracy: 0.8411\n",
      "Epoch 13/50\n",
      "60/60 [==============================] - 18s 300ms/step - loss: 0.1444 - accuracy: 0.9483 - val_loss: 0.3398 - val_accuracy: 0.8943\n",
      "Epoch 14/50\n",
      "60/60 [==============================] - 18s 292ms/step - loss: 0.1374 - accuracy: 0.9504 - val_loss: 0.2124 - val_accuracy: 0.9358\n",
      "Epoch 15/50\n",
      "60/60 [==============================] - 18s 292ms/step - loss: 0.1535 - accuracy: 0.9515 - val_loss: 0.3056 - val_accuracy: 0.8917\n",
      "Epoch 16/50\n",
      "60/60 [==============================] - 18s 302ms/step - loss: 0.1501 - accuracy: 0.9467 - val_loss: 0.5127 - val_accuracy: 0.8482\n",
      "Epoch 17/50\n",
      "60/60 [==============================] - 18s 301ms/step - loss: 0.1364 - accuracy: 0.9578 - val_loss: 0.2283 - val_accuracy: 0.9326\n",
      "Epoch 18/50\n",
      "60/60 [==============================] - 18s 299ms/step - loss: 0.1636 - accuracy: 0.9399 - val_loss: 0.4487 - val_accuracy: 0.8586\n",
      "Epoch 19/50\n",
      "60/60 [==============================] - 17s 291ms/step - loss: 0.1176 - accuracy: 0.9578 - val_loss: 0.3025 - val_accuracy: 0.9092\n",
      "Epoch 20/50\n",
      "60/60 [==============================] - 18s 293ms/step - loss: 0.1159 - accuracy: 0.9631 - val_loss: 0.2978 - val_accuracy: 0.9047\n",
      "Epoch 21/50\n",
      "60/60 [==============================] - 18s 300ms/step - loss: 0.1003 - accuracy: 0.9668 - val_loss: 0.4468 - val_accuracy: 0.8755\n",
      "Epoch 22/50\n",
      "60/60 [==============================] - 18s 299ms/step - loss: 0.0911 - accuracy: 0.9694 - val_loss: 0.2482 - val_accuracy: 0.9137\n",
      "Epoch 23/50\n",
      "60/60 [==============================] - 18s 295ms/step - loss: 0.1056 - accuracy: 0.9684 - val_loss: 0.4288 - val_accuracy: 0.8645\n",
      "Epoch 24/50\n",
      "60/60 [==============================] - 17s 290ms/step - loss: 0.0978 - accuracy: 0.9657 - val_loss: 0.3100 - val_accuracy: 0.9060\n",
      "Epoch 25/50\n",
      "60/60 [==============================] - 18s 298ms/step - loss: 0.1055 - accuracy: 0.9631 - val_loss: 0.4757 - val_accuracy: 0.8716\n",
      "Epoch 26/50\n",
      "60/60 [==============================] - 19s 312ms/step - loss: 0.1002 - accuracy: 0.9647 - val_loss: 0.4122 - val_accuracy: 0.8833\n",
      "Epoch 27/50\n",
      "60/60 [==============================] - 18s 296ms/step - loss: 0.0833 - accuracy: 0.9747 - val_loss: 0.6864 - val_accuracy: 0.8210\n",
      "Epoch 28/50\n",
      "60/60 [==============================] - 18s 295ms/step - loss: 0.0818 - accuracy: 0.9736 - val_loss: 0.2508 - val_accuracy: 0.9235\n",
      "Epoch 29/50\n",
      "60/60 [==============================] - 18s 293ms/step - loss: 0.0653 - accuracy: 0.9789 - val_loss: 0.3489 - val_accuracy: 0.9040\n",
      "Epoch 30/50\n",
      "60/60 [==============================] - 18s 302ms/step - loss: 0.0787 - accuracy: 0.9742 - val_loss: 0.2744 - val_accuracy: 0.9176\n",
      "Epoch 31/50\n",
      "60/60 [==============================] - 18s 297ms/step - loss: 0.0926 - accuracy: 0.9678 - val_loss: 0.2682 - val_accuracy: 0.9306\n",
      "Epoch 32/50\n",
      "60/60 [==============================] - 18s 293ms/step - loss: 0.0744 - accuracy: 0.9731 - val_loss: 0.2711 - val_accuracy: 0.9086\n",
      "Epoch 33/50\n",
      "60/60 [==============================] - 17s 290ms/step - loss: 0.1033 - accuracy: 0.9689 - val_loss: 0.2697 - val_accuracy: 0.9326\n",
      "Epoch 34/50\n",
      "60/60 [==============================] - 18s 299ms/step - loss: 0.0930 - accuracy: 0.9689 - val_loss: 0.4038 - val_accuracy: 0.8904\n",
      "Epoch 35/50\n",
      "60/60 [==============================] - 18s 302ms/step - loss: 0.0769 - accuracy: 0.9747 - val_loss: 0.3217 - val_accuracy: 0.9235\n",
      "Epoch 36/50\n",
      "60/60 [==============================] - 18s 300ms/step - loss: 0.0633 - accuracy: 0.9800 - val_loss: 0.3443 - val_accuracy: 0.9060\n",
      "Epoch 37/50\n",
      "60/60 [==============================] - 17s 291ms/step - loss: 0.0865 - accuracy: 0.9736 - val_loss: 0.4127 - val_accuracy: 0.8949\n",
      "Epoch 38/50\n",
      "60/60 [==============================] - 17s 291ms/step - loss: 0.0825 - accuracy: 0.9747 - val_loss: 0.5385 - val_accuracy: 0.8969\n",
      "Epoch 39/50\n",
      "60/60 [==============================] - 18s 302ms/step - loss: 0.0992 - accuracy: 0.9705 - val_loss: 0.3203 - val_accuracy: 0.9021\n",
      "Epoch 40/50\n",
      "60/60 [==============================] - 18s 298ms/step - loss: 0.1521 - accuracy: 0.9451 - val_loss: 0.5551 - val_accuracy: 0.8943\n",
      "Epoch 41/50\n",
      "60/60 [==============================] - 18s 292ms/step - loss: 0.1157 - accuracy: 0.9662 - val_loss: 0.6970 - val_accuracy: 0.7322\n",
      "Epoch 42/50\n",
      "60/60 [==============================] - 18s 295ms/step - loss: 0.0885 - accuracy: 0.9731 - val_loss: 0.5178 - val_accuracy: 0.8593\n",
      "Epoch 43/50\n",
      "60/60 [==============================] - 18s 297ms/step - loss: 0.0762 - accuracy: 0.9757 - val_loss: 0.5034 - val_accuracy: 0.8671\n",
      "Epoch 44/50\n",
      "60/60 [==============================] - 18s 300ms/step - loss: 0.0589 - accuracy: 0.9847 - val_loss: 0.4486 - val_accuracy: 0.8885\n",
      "Epoch 45/50\n",
      "60/60 [==============================] - 18s 295ms/step - loss: 0.0686 - accuracy: 0.9773 - val_loss: 0.4063 - val_accuracy: 0.8943\n",
      "Epoch 46/50\n",
      "60/60 [==============================] - 17s 290ms/step - loss: 0.0695 - accuracy: 0.9742 - val_loss: 0.3045 - val_accuracy: 0.9306\n",
      "Epoch 47/50\n",
      "60/60 [==============================] - 17s 291ms/step - loss: 0.0638 - accuracy: 0.9831 - val_loss: 0.6758 - val_accuracy: 0.8755\n",
      "Epoch 48/50\n",
      "60/60 [==============================] - 18s 305ms/step - loss: 0.0654 - accuracy: 0.9800 - val_loss: 0.2984 - val_accuracy: 0.9345\n",
      "Epoch 49/50\n",
      "60/60 [==============================] - 18s 299ms/step - loss: 0.0661 - accuracy: 0.9789 - val_loss: 0.4120 - val_accuracy: 0.8988\n",
      "Epoch 50/50\n",
      "60/60 [==============================] - 18s 299ms/step - loss: 0.0525 - accuracy: 0.9821 - val_loss: 0.3824 - val_accuracy: 0.9073\n"
     ]
    }
   ],
   "source": [
    "r= model.fit_generator(training_set,validation_data=test_set,epochs=50,steps_per_epoch=len(training_set),validation_steps=len(test_set))"
   ]
  },
  {
   "cell_type": "code",
   "execution_count": 15,
   "id": "6673ada0",
   "metadata": {},
   "outputs": [
    {
     "data": {
      "image/png": "[encoded data removed]",
      "text/plain": [
       "<Figure size 432x288 with 1 Axes>"
      ]
     },
     "metadata": {
      "needs_background": "light"
     },
     "output_type": "display_data"
    },
    {
     "data": {
      "image/png": "[encoded data removed]",
      "text/plain": [
       "<Figure size 432x288 with 1 Axes>"
      ]
     },
     "metadata": {
      "needs_background": "light"
     },
     "output_type": "display_data"
    },
    {
     "data": {
      "text/plain": [
       "<Figure size 432x288 with 0 Axes>"
      ]
     },
     "metadata": {},
     "output_type": "display_data"
    }
   ],
   "source": [
    "# plot the loss\n",
    "plt.plot(r.history['loss'], label='train loss')\n",
    "plt.plot(r.history['val_loss'], label='val loss')\n",
    "plt.legend()\n",
    "plt.show()\n",
    "plt.savefig('LossVal_loss')\n",
    "\n",
    "# plot the accuracy\n",
    "plt.plot(r.history['accuracy'], label='train acc')\n",
    "plt.plot(r.history['val_accuracy'], label='val acc')\n",
    "plt.legend()\n",
    "plt.show()\n",
    "plt.savefig('AccVal_acc')"
   ]
  },
  {
   "cell_type": "code",
   "execution_count": 16,
   "id": "63eb11a6",
   "metadata": {},
   "outputs": [],
   "source": [
    "from tensorflow.keras.models import load_model\n",
    "\n",
    "model.save('model_scratch.h5')"
   ]
  },
  {
   "cell_type": "code",
   "execution_count": null,
   "id": "6569dbb4",
   "metadata": {},
   "outputs": [],
   "source": []
  }
 ],
 "metadata": {
  "kernelspec": {
   "display_name": "Python 3",
   "language": "python",
   "name": "python3"
  },
  "language_info": {
   "codemirror_mode": {
    "name": "ipython",
    "version": 3
   },
   "file_extension": ".py",
   "mimetype": "text/x-python",
   "name": "python",
   "nbconvert_exporter": "python",
   "pygments_lexer": "ipython3",
   "version": "3.9.6"
  }
 },
 "nbformat": 4,
 "nbformat_minor": 5
}
